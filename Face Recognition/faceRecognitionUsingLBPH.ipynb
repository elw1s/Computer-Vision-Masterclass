{
  "nbformat": 4,
  "nbformat_minor": 0,
  "metadata": {
    "colab": {
      "provenance": [],
      "gpuType": "T4",
      "authorship_tag": "ABX9TyPCeLpWd60QuFmTXk8vZD+J"
    },
    "kernelspec": {
      "name": "python3",
      "display_name": "Python 3"
    },
    "language_info": {
      "name": "python"
    },
    "accelerator": "GPU"
  },
  "cells": [
    {
      "cell_type": "code",
      "execution_count": 1,
      "metadata": {
        "colab": {
          "base_uri": "https://localhost:8080/"
        },
        "id": "YAFrecEU3UMw",
        "outputId": "da9d8bcb-79df-4bc8-9de7-faab5ffdd2c6"
      },
      "outputs": [
        {
          "output_type": "stream",
          "name": "stdout",
          "text": [
            "Mounted at /content/drive\n"
          ]
        }
      ],
      "source": [
        "from PIL import Image\n",
        "import cv2\n",
        "import numpy as np\n",
        "from google.colab.patches import cv2_imshow\n",
        "from google.colab import drive\n",
        "drive.mount('/content/drive')"
      ]
    },
    {
      "cell_type": "code",
      "source": [
        "import zipfile\n",
        "path = '/content/drive/MyDrive/Computer Vision Masterclass - Udemy/Datasets/yalefaces.zip'\n",
        "zip_object = zipfile.ZipFile(file=path, mode = 'r')\n",
        "zip_object.extractall('./')\n",
        "zip_object.close()"
      ],
      "metadata": {
        "id": "x5dqjRpi60zh"
      },
      "execution_count": 2,
      "outputs": []
    },
    {
      "cell_type": "code",
      "source": [
        "import os\n",
        "print(os.listdir('/content/yalefaces/train'))"
      ],
      "metadata": {
        "colab": {
          "base_uri": "https://localhost:8080/"
        },
        "id": "f3mYExyU7fGx",
        "outputId": "30e520fd-b0a1-4a98-b40e-ca99dc37d213"
      },
      "execution_count": 3,
      "outputs": [
        {
          "output_type": "stream",
          "name": "stdout",
          "text": [
            "['subject13.centerlight.gif', 'subject14.happy.gif', 'subject02.surprised.gif', 'subject01.sleepy.gif', 'subject11.centerlight.gif', 'subject05.rightlight.gif', 'subject04.normal.gif', 'subject12.leftlight.gif', 'subject05.centerlight.gif', 'subject11.noglasses.gif', 'subject06.sleepy.gif', 'subject07.glasses.gif', 'subject06.normal.gif', 'subject06.noglasses.gif', 'subject01.sad.gif', 'subject04.noglasses.gif', 'subject02.normal.gif', 'subject12.surprised.gif', 'subject11.sad.gif', 'subject04.rightlight.gif', 'subject12.sad.gif', 'subject06.centerlight.gif', 'subject10.noglasses.gif', 'subject08.glasses.gif', 'subject01.glasses.gif', 'subject15.happy.gif', 'subject01.normal.gif', 'subject14.surprised.gif', 'subject08.noglasses.gif', 'subject06.surprised.gif', 'subject09.leftlight.gif', 'subject10.normal.gif', 'subject11.leftlight.gif', 'subject10.wink.gif', 'subject15.wink.gif', 'subject11.rightlight.gif', 'subject01.leftlight.gif', 'subject06.wink.gif', 'subject11.normal.gif', 'subject03.sad.gif', 'subject01.noglasses.gif', 'subject15.surprised.gif', 'subject11.surprised.gif', 'subject10.rightlight.gif', 'subject12.sleepy.gif', 'subject09.noglasses.gif', 'subject08.sad.gif', 'subject06.rightlight.gif', 'subject08.leftlight.gif', 'subject02.rightlight.gif', 'subject04.glasses.gif', 'subject04.sad.gif', 'subject08.centerlight.gif', 'subject08.surprised.gif', 'subject14.wink.gif', 'subject07.sleepy.gif', 'subject11.sleepy.gif', 'subject01.surprised.gif', 'subject02.wink.gif', 'subject09.sleepy.gif', 'subject07.noglasses.gif', 'subject05.wink.gif', 'subject05.happy.gif', 'subject13.rightlight.gif', 'subject07.surprised.gif', 'subject14.sleepy.gif', 'subject08.sleepy.gif', 'subject03.wink.gif', 'subject13.normal.gif', 'subject10.glasses.gif', 'subject04.sleepy.gif', 'subject07.centerlight.gif', 'subject14.glasses.gif', 'subject02.glasses.gif', 'subject09.glasses.gif', 'subject08.wink.gif', 'subject15.glasses.gif', 'subject12.wink.gif', 'subject05.noglasses.gif', 'subject04.wink.gif', 'subject09.wink.gif', 'subject08.happy.gif', 'subject06.glasses.gif', 'subject02.sad.gif', 'subject01.rightlight.gif', 'subject15.leftlight.gif', 'subject07.normal.gif', 'subject03.surprised.gif', 'subject15.centerlight.gif', 'subject13.noglasses.gif', 'subject15.noglasses.gif', 'subject09.centerlight.gif', 'subject12.centerlight.gif', 'subject05.sad.gif', 'subject13.wink.gif', 'subject04.centerlight.gif', 'subject07.rightlight.gif', 'subject02.happy.gif', 'subject14.leftlight.gif', 'subject12.glasses.gif', 'subject07.sad.gif', 'subject12.noglasses.gif', 'subject07.wink.gif', 'subject14.rightlight.gif', 'subject09.surprised.gif', 'subject13.leftlight.gif', 'subject10.leftlight.gif', 'subject15.normal.gif', 'subject02.sleepy.gif', 'subject06.sad.gif', 'subject02.noglasses.gif', 'subject13.surprised.gif', 'subject10.surprised.gif', 'subject05.leftlight.gif', 'subject03.noglasses.gif', 'subject13.happy.gif', 'subject09.happy.gif', 'subject01.wink.gif', 'subject04.happy.gif', 'subject05.normal.gif', 'subject03.normal.gif', 'subject12.happy.gif', 'subject14.centerlight.gif', 'subject13.glasses.gif', 'subject03.rightlight.gif', 'subject03.happy.gif', 'subject11.wink.gif', 'subject03.sleepy.gif', 'subject10.sleepy.gif', 'subject15.sleepy.gif', 'subject05.glasses.gif', 'subject03.centerlight.gif', 'subject09.normal.gif', 'subject10.happy.gif', 'subject14.noglasses.gif']\n"
          ]
        }
      ]
    },
    {
      "cell_type": "code",
      "source": [
        "def get_image_data():\n",
        "  paths = [os.path.join('/content/yalefaces/train', f) for f in os.listdir('/content/yalefaces/train')]\n",
        "  #print(paths)\n",
        "  faces = []\n",
        "  ids = []\n",
        "  for path in paths:\n",
        "    image = Image.open(path).convert('L') # L mode = single mode image (grayscale)\n",
        "    image_np = np.array(image, 'uint8')\n",
        "    id = int(os.path.split(path)[1].split('.')[0].replace('subject', ''))\n",
        "    ids.append(id)\n",
        "    faces.append(image_np)\n",
        "\n",
        "  return np.array(ids), faces\n"
      ],
      "metadata": {
        "id": "tOhyAA0U7sGx"
      },
      "execution_count": 4,
      "outputs": []
    },
    {
      "cell_type": "code",
      "source": [
        "ids, faces = get_image_data()"
      ],
      "metadata": {
        "id": "yapAhXNN8B3T"
      },
      "execution_count": 5,
      "outputs": []
    },
    {
      "cell_type": "code",
      "source": [
        "ids"
      ],
      "metadata": {
        "colab": {
          "base_uri": "https://localhost:8080/"
        },
        "id": "Br6tLcI69MR_",
        "outputId": "8faee613-3e95-49b5-edea-92fc5436cdf7"
      },
      "execution_count": 6,
      "outputs": [
        {
          "output_type": "execute_result",
          "data": {
            "text/plain": [
              "array([13, 14,  2,  1, 11,  5,  4, 12,  5, 11,  6,  7,  6,  6,  1,  4,  2,\n",
              "       12, 11,  4, 12,  6, 10,  8,  1, 15,  1, 14,  8,  6,  9, 10, 11, 10,\n",
              "       15, 11,  1,  6, 11,  3,  1, 15, 11, 10, 12,  9,  8,  6,  8,  2,  4,\n",
              "        4,  8,  8, 14,  7, 11,  1,  2,  9,  7,  5,  5, 13,  7, 14,  8,  3,\n",
              "       13, 10,  4,  7, 14,  2,  9,  8, 15, 12,  5,  4,  9,  8,  6,  2,  1,\n",
              "       15,  7,  3, 15, 13, 15,  9, 12,  5, 13,  4,  7,  2, 14, 12,  7, 12,\n",
              "        7, 14,  9, 13, 10, 15,  2,  6,  2, 13, 10,  5,  3, 13,  9,  1,  4,\n",
              "        5,  3, 12, 14, 13,  3,  3, 11,  3, 10, 15,  5,  3,  9, 10, 14])"
            ]
          },
          "metadata": {},
          "execution_count": 6
        }
      ]
    },
    {
      "cell_type": "markdown",
      "source": [
        "Training the classifier"
      ],
      "metadata": {
        "id": "6msDbwKC-kNs"
      }
    },
    {
      "cell_type": "code",
      "source": [
        "#grid x and grid y = default value is 8\n",
        "lbph_classifier = cv2.face.LBPHFaceRecognizer_create()\n",
        "lbph_classifier.train(faces, ids)\n",
        "lbph_classifier.write('lbph_classifier.yml')"
      ],
      "metadata": {
        "id": "G2ansXDZ9xP5"
      },
      "execution_count": 7,
      "outputs": []
    },
    {
      "cell_type": "markdown",
      "source": [
        "Prediction"
      ],
      "metadata": {
        "id": "OQryQz7D-pJp"
      }
    },
    {
      "cell_type": "code",
      "source": [
        "lbph_face_classifier = cv2.face.LBPHFaceRecognizer_create()\n",
        "lbph_face_classifier.read('/content/lbph_classifier.yml')"
      ],
      "metadata": {
        "id": "BbQQT63K-W39"
      },
      "execution_count": 8,
      "outputs": []
    },
    {
      "cell_type": "code",
      "source": [
        "test_image = '/content/yalefaces/test/subject10.sad.gif'"
      ],
      "metadata": {
        "id": "qOs5BHRf-ifs"
      },
      "execution_count": 9,
      "outputs": []
    },
    {
      "cell_type": "code",
      "source": [
        "image = Image.open(test_image).convert('L')\n",
        "image_np = np.array(image, 'uint8')"
      ],
      "metadata": {
        "id": "AdogmjV--0r9"
      },
      "execution_count": 10,
      "outputs": []
    },
    {
      "cell_type": "code",
      "source": [
        "image_np.shape"
      ],
      "metadata": {
        "colab": {
          "base_uri": "https://localhost:8080/"
        },
        "id": "neW8QMSa-9Ny",
        "outputId": "0116c3a0-d5e9-473b-fa60-49835d1a5e19"
      },
      "execution_count": 11,
      "outputs": [
        {
          "output_type": "execute_result",
          "data": {
            "text/plain": [
              "(243, 320)"
            ]
          },
          "metadata": {},
          "execution_count": 11
        }
      ]
    },
    {
      "cell_type": "code",
      "source": [
        "prediction = lbph_face_classifier.predict(image_np)\n",
        "prediction"
      ],
      "metadata": {
        "colab": {
          "base_uri": "https://localhost:8080/"
        },
        "id": "wMfqTUV2--xq",
        "outputId": "df3ef5c7-e2b3-461c-874a-071df5abc235"
      },
      "execution_count": 12,
      "outputs": [
        {
          "output_type": "execute_result",
          "data": {
            "text/plain": [
              "(10, 6.384336446373091)"
            ]
          },
          "metadata": {},
          "execution_count": 12
        }
      ]
    },
    {
      "cell_type": "code",
      "source": [
        "expected_output = int(os.path.split(test_image)[1].split('.')[0].replace('subject',''))\n",
        "expected_output"
      ],
      "metadata": {
        "colab": {
          "base_uri": "https://localhost:8080/"
        },
        "id": "Ijwlix6W_G5j",
        "outputId": "0d26590d-8272-440e-ebcb-10a536b30247"
      },
      "execution_count": 13,
      "outputs": [
        {
          "output_type": "execute_result",
          "data": {
            "text/plain": [
              "10"
            ]
          },
          "metadata": {},
          "execution_count": 13
        }
      ]
    },
    {
      "cell_type": "code",
      "source": [
        "cv2.putText(image_np, 'Pred: ' + str(prediction[0]), [10,30], cv2.FONT_HERSHEY_COMPLEX_SMALL, 1, (0,255,0))\n",
        "cv2.putText(image_np, 'Exp: ' + str(expected_output), [10,50], cv2.FONT_HERSHEY_COMPLEX_SMALL, 1, (0,255,0))\n",
        "cv2_imshow(image_np)"
      ],
      "metadata": {
        "colab": {
          "base_uri": "https://localhost:8080/",
          "height": 260
        },
        "id": "cKHtJYhF_VfW",
        "outputId": "904f0494-62ce-4250-f494-8623dd78a084"
      },
      "execution_count": 14,
      "outputs": [
        {
          "output_type": "display_data",
          "data": {
            "text/plain": [
              "<PIL.Image.Image image mode=L size=320x243>"
            ],
            "image/png": "[encoded data removed]"
          },
          "metadata": {}
        }
      ]
    },
    {
      "cell_type": "markdown",
      "source": [
        "Evaluating Classifier"
      ],
      "metadata": {
        "id": "UXnFQJ_k_9-E"
      }
    },
    {
      "cell_type": "code",
      "source": [
        "paths = [os.path.join('/content/yalefaces/test', f) for f in os.listdir('/content/yalefaces/test')]\n",
        "predictions = []\n",
        "expected_outputs = []\n",
        "for path in paths:\n",
        "  image = Image.open(path).convert('L')\n",
        "  image_np = np.array(image, 'uint8')\n",
        "  prediction, _ = lbph_face_classifier.predict(image_np)\n",
        "  expected_output = int(os.path.split(path)[1].split('.')[0].replace('subject',''))\n",
        "\n",
        "\n",
        "  predictions.append(prediction)\n",
        "  expected_outputs.append(expected_output)"
      ],
      "metadata": {
        "id": "fw726nON__7e"
      },
      "execution_count": 15,
      "outputs": []
    },
    {
      "cell_type": "code",
      "source": [
        "type(predictions)"
      ],
      "metadata": {
        "colab": {
          "base_uri": "https://localhost:8080/"
        },
        "id": "heeuae_uAvYL",
        "outputId": "a9a5f5dc-3252-4be2-d2a5-247e1ad6b6ac"
      },
      "execution_count": 16,
      "outputs": [
        {
          "output_type": "execute_result",
          "data": {
            "text/plain": [
              "list"
            ]
          },
          "metadata": {},
          "execution_count": 16
        }
      ]
    },
    {
      "cell_type": "code",
      "source": [
        "predictions = np.array(predictions)\n",
        "expected_outputs = np.array(expected_outputs)"
      ],
      "metadata": {
        "id": "Z3WVZRTBAxrM"
      },
      "execution_count": 17,
      "outputs": []
    },
    {
      "cell_type": "code",
      "source": [
        "expected_outputs"
      ],
      "metadata": {
        "colab": {
          "base_uri": "https://localhost:8080/"
        },
        "id": "R9acCwbLBOWz",
        "outputId": "9c229377-5751-45eb-b1da-0adaa929c2d8"
      },
      "execution_count": 18,
      "outputs": [
        {
          "output_type": "execute_result",
          "data": {
            "text/plain": [
              "array([ 7,  4,  4,  1,  3,  8,  5, 10, 15,  6, 14,  6,  2, 12,  9, 11, 14,\n",
              "        7,  5,  8, 13,  1, 15, 12, 11, 13,  3,  9,  2, 10])"
            ]
          },
          "metadata": {},
          "execution_count": 18
        }
      ]
    },
    {
      "cell_type": "code",
      "source": [
        "predictions"
      ],
      "metadata": {
        "colab": {
          "base_uri": "https://localhost:8080/"
        },
        "id": "O-zcE9JABP3r",
        "outputId": "787bad6c-e0d2-4030-c491-9fc5ce2f07fb"
      },
      "execution_count": 19,
      "outputs": [
        {
          "output_type": "execute_result",
          "data": {
            "text/plain": [
              "array([ 9,  4,  9,  1,  3,  4,  5,  4, 15, 14, 14,  6,  4, 12,  7, 11, 14,\n",
              "        7,  5,  8, 13,  1,  7, 12, 11, 13,  9,  9,  5, 10])"
            ]
          },
          "metadata": {},
          "execution_count": 19
        }
      ]
    },
    {
      "cell_type": "code",
      "source": [
        "from sklearn.metrics import accuracy_score\n",
        "\n",
        "accuracy_score(expected_outputs, predictions)"
      ],
      "metadata": {
        "colab": {
          "base_uri": "https://localhost:8080/"
        },
        "id": "okC7JeJTA9mV",
        "outputId": "a5d354b9-2fe5-4472-b990-5b74ed508141"
      },
      "execution_count": 20,
      "outputs": [
        {
          "output_type": "execute_result",
          "data": {
            "text/plain": [
              "0.6666666666666666"
            ]
          },
          "metadata": {},
          "execution_count": 20
        }
      ]
    },
    {
      "cell_type": "code",
      "source": [
        "from sklearn.metrics import confusion_matrix\n",
        "\n",
        "cm = confusion_matrix(expected_outputs, predictions)"
      ],
      "metadata": {
        "id": "Y6Q4J033E9vW"
      },
      "execution_count": 21,
      "outputs": []
    },
    {
      "cell_type": "code",
      "source": [
        "import seaborn\n",
        "\n",
        "seaborn.heatmap(cm, annot= True)"
      ],
      "metadata": {
        "colab": {
          "base_uri": "https://localhost:8080/",
          "height": 453
        },
        "id": "f_X2rNLiFLsd",
        "outputId": "197b5bf3-f4ea-47dd-e560-d15157a91fda"
      },
      "execution_count": 22,
      "outputs": [
        {
          "output_type": "execute_result",
          "data": {
            "text/plain": [
              "<Axes: >"
            ]
          },
          "metadata": {},
          "execution_count": 22
        },
        {
          "output_type": "display_data",
          "data": {
            "text/plain": [
              "<Figure size 640x480 with 2 Axes>"
            ],
            "image/png": "[encoded data removed]"
          },
          "metadata": {}
        }
      ]
    },
    {
      "cell_type": "markdown",
      "source": [
        "Adjusting hyperparameters"
      ],
      "metadata": {
        "id": "TMlPX45oGxBs"
      }
    },
    {
      "cell_type": "code",
      "source": [
        "#Default\n",
        "# radius : 1\n",
        "# neighbors : 8\n",
        "# grid_x = 8\n",
        "# grid_y = 8\n",
        "lbph_classifier = cv2.face.LBPHFaceRecognizer_create(radius = 5, neighbors = 13, grid_x = 8, grid_y = 8)\n",
        "lbph_classifier.train(faces, ids)\n",
        "lbph_classifier.write('lbph_classifier_adjusted_parameters.yml')\n",
        "\n",
        "lbph_face_classifier = cv2.face.LBPHFaceRecognizer_create()\n",
        "lbph_face_classifier.read('/content/lbph_classifier_adjusted_parameters.yml')"
      ],
      "metadata": {
        "id": "CDGL8bKAHDQM"
      },
      "execution_count": 32,
      "outputs": []
    },
    {
      "cell_type": "code",
      "source": [
        "paths = [os.path.join('/content/yalefaces/test', f) for f in os.listdir('/content/yalefaces/test')]\n",
        "predictions = []\n",
        "expected_outputs = []\n",
        "for path in paths:\n",
        "  image = Image.open(path).convert('L')\n",
        "  image_np = np.array(image, 'uint8')\n",
        "  prediction, _ = lbph_face_classifier.predict(image_np)\n",
        "  expected_output = int(os.path.split(path)[1].split('.')[0].replace('subject',''))\n",
        "\n",
        "\n",
        "  predictions.append(prediction)\n",
        "  expected_outputs.append(expected_output)"
      ],
      "metadata": {
        "id": "8c0ZdAf7GvDe"
      },
      "execution_count": 33,
      "outputs": []
    },
    {
      "cell_type": "code",
      "source": [
        "predictions = np.array(predictions)\n",
        "expected_outputs = np.array(expected_outputs)"
      ],
      "metadata": {
        "id": "vKmZiYErG5D_"
      },
      "execution_count": 34,
      "outputs": []
    },
    {
      "cell_type": "code",
      "source": [
        "from sklearn.metrics import accuracy_score\n",
        "\n",
        "accuracy_score(expected_outputs, predictions)"
      ],
      "metadata": {
        "colab": {
          "base_uri": "https://localhost:8080/"
        },
        "id": "1AEGuUKmG7a4",
        "outputId": "2d0627f0-9d73-4878-daa0-305be3c61313"
      },
      "execution_count": 35,
      "outputs": [
        {
          "output_type": "execute_result",
          "data": {
            "text/plain": [
              "0.6333333333333333"
            ]
          },
          "metadata": {},
          "execution_count": 35
        }
      ]
    }
  ]
}